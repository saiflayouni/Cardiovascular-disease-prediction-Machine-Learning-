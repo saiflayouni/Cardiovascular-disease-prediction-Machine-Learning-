{
  "nbformat": 4,
  "nbformat_minor": 0,
  "metadata": {
    "kernelspec": {
      "display_name": "Python 3",
      "language": "python",
      "name": "python3"
    },
    "language_info": {
      "codemirror_mode": {
        "name": "ipython",
        "version": 3
      },
      "file_extension": ".py",
      "mimetype": "text/x-python",
      "name": "python",
      "nbconvert_exporter": "python",
      "pygments_lexer": "ipython3",
      "version": "3.7.4"
    },
    "colab": {
      "name": "Cardiovascular disease prediction¶.ipynb",
      "version": "0.3.2",
      "provenance": [],
      "include_colab_link": true
    }
  },
  "cells": [
    {
      "cell_type": "markdown",
      "metadata": {
        "id": "view-in-github",
        "colab_type": "text"
      },
      "source": [
        "<a href=\"https://colab.research.google.com/github/saiflayouni/Cardiovascular-disease-prediction-Machine-Learning-/blob/master/Cardiovascular_disease_prediction%C2%B6.ipynb\" target=\"_parent\"><img src=\"https://colab.research.google.com/assets/colab-badge.svg\" alt=\"Open In Colab\"/></a>"
      ]
    },
    {
      "cell_type": "markdown",
      "metadata": {
        "id": "LxfVeuNJDBNs",
        "colab_type": "text"
      },
      "source": [
        "\n",
        "\n",
        "# PROJECT : Cardiovascular disease prediction\n",
        "                                                                                                                                                                                                                                                                                                                       "
      ]
    },
    {
      "cell_type": "code",
      "metadata": {
        "id": "2iWQGDejDGX3",
        "colab_type": "code",
        "colab": {}
      },
      "source": [
        ""
      ],
      "execution_count": 0,
      "outputs": []
    },
    {
      "cell_type": "code",
      "metadata": {
        "id": "56fu2UCRDDsO",
        "colab_type": "code",
        "colab": {}
      },
      "source": [
        ""
      ],
      "execution_count": 0,
      "outputs": []
    },
    {
      "cell_type": "code",
      "metadata": {
        "id": "-xa1klYFDBNt",
        "colab_type": "code",
        "colab": {}
      },
      "source": [
        "# import libraries\n",
        "import numpy as np # linear algebra\n",
        "import pandas as pd # data processing\n",
        "import matplotlib.pyplot as plt\n",
        "from matplotlib import rcParams\n",
        "import seaborn as sns  # plot\n",
        "\n",
        "\n",
        "from sklearn.model_selection import train_test_split\n",
        "from sklearn.linear_model import LogisticRegression\n",
        "from sklearn.metrics import accuracy_score\n",
        "from sklearn.metrics import classification_report,confusion_matrix\n",
        "from sklearn.neighbors import KNeighborsClassifier\n",
        "from sklearn.ensemble import RandomForestClassifier,BaggingClassifier\n",
        "from sklearn import metrics\n",
        "\n",
        "\n"
      ],
      "execution_count": 0,
      "outputs": []
    },
    {
      "cell_type": "code",
      "metadata": {
        "id": "yzG_oruMDBNy",
        "colab_type": "code",
        "colab": {}
      },
      "source": [
        "# id ID number\n",
        "# age in days\n",
        "# gender   1 - women, 2 - men\n",
        "# height   cm\n",
        "# weight   kg\n",
        "# ap_hi    Systolic blood pressure\n",
        "# ap_lo    Diastolic blood pressure\n",
        "# cholesterol   1: normal, 2: above normal, 3: well above normal\n",
        "# gluc     1: normal, 2: above normal, 3: well above normal\n",
        "# smoke    whether patient smokes or not\n",
        "# alco     Binary feature\n",
        "# active   Binary feature\n",
        "# cardio   Target variable"
      ],
      "execution_count": 0,
      "outputs": []
    },
    {
      "cell_type": "markdown",
      "metadata": {
        "id": "O9aZ2y7iDBN0",
        "colab_type": "text"
      },
      "source": [
        "# data preprocessing and visualization"
      ]
    },
    {
      "cell_type": "code",
      "metadata": {
        "id": "Hlnv205LDBN2",
        "colab_type": "code",
        "colab": {},
        "outputId": "14e8b8fb-b130-4e4d-88da-367f1e1d5b48"
      },
      "source": [
        "df = pd.read_csv('cardio_train.csv',sep=';')\n",
        "df"
      ],
      "execution_count": 0,
      "outputs": [
        {
          "output_type": "execute_result",
          "data": {
            "text/html": [
              "<div>\n",
              "<style scoped>\n",
              "    .dataframe tbody tr th:only-of-type {\n",
              "        vertical-align: middle;\n",
              "    }\n",
              "\n",
              "    .dataframe tbody tr th {\n",
              "        vertical-align: top;\n",
              "    }\n",
              "\n",
              "    .dataframe thead th {\n",
              "        text-align: right;\n",
              "    }\n",
              "</style>\n",
              "<table border=\"1\" class=\"dataframe\">\n",
              "  <thead>\n",
              "    <tr style=\"text-align: right;\">\n",
              "      <th></th>\n",
              "      <th>id</th>\n",
              "      <th>age</th>\n",
              "      <th>gender</th>\n",
              "      <th>height</th>\n",
              "      <th>weight</th>\n",
              "      <th>ap_hi</th>\n",
              "      <th>ap_lo</th>\n",
              "      <th>cholesterol</th>\n",
              "      <th>gluc</th>\n",
              "      <th>smoke</th>\n",
              "      <th>alco</th>\n",
              "      <th>active</th>\n",
              "      <th>cardio</th>\n",
              "    </tr>\n",
              "  </thead>\n",
              "  <tbody>\n",
              "    <tr>\n",
              "      <td>0</td>\n",
              "      <td>0</td>\n",
              "      <td>18393</td>\n",
              "      <td>2</td>\n",
              "      <td>168</td>\n",
              "      <td>62.0</td>\n",
              "      <td>110</td>\n",
              "      <td>80</td>\n",
              "      <td>1</td>\n",
              "      <td>1</td>\n",
              "      <td>0</td>\n",
              "      <td>0</td>\n",
              "      <td>1</td>\n",
              "      <td>0</td>\n",
              "    </tr>\n",
              "    <tr>\n",
              "      <td>1</td>\n",
              "      <td>1</td>\n",
              "      <td>20228</td>\n",
              "      <td>1</td>\n",
              "      <td>156</td>\n",
              "      <td>85.0</td>\n",
              "      <td>140</td>\n",
              "      <td>90</td>\n",
              "      <td>3</td>\n",
              "      <td>1</td>\n",
              "      <td>0</td>\n",
              "      <td>0</td>\n",
              "      <td>1</td>\n",
              "      <td>1</td>\n",
              "    </tr>\n",
              "    <tr>\n",
              "      <td>2</td>\n",
              "      <td>2</td>\n",
              "      <td>18857</td>\n",
              "      <td>1</td>\n",
              "      <td>165</td>\n",
              "      <td>64.0</td>\n",
              "      <td>130</td>\n",
              "      <td>70</td>\n",
              "      <td>3</td>\n",
              "      <td>1</td>\n",
              "      <td>0</td>\n",
              "      <td>0</td>\n",
              "      <td>0</td>\n",
              "      <td>1</td>\n",
              "    </tr>\n",
              "    <tr>\n",
              "      <td>3</td>\n",
              "      <td>3</td>\n",
              "      <td>17623</td>\n",
              "      <td>2</td>\n",
              "      <td>169</td>\n",
              "      <td>82.0</td>\n",
              "      <td>150</td>\n",
              "      <td>100</td>\n",
              "      <td>1</td>\n",
              "      <td>1</td>\n",
              "      <td>0</td>\n",
              "      <td>0</td>\n",
              "      <td>1</td>\n",
              "      <td>1</td>\n",
              "    </tr>\n",
              "    <tr>\n",
              "      <td>4</td>\n",
              "      <td>4</td>\n",
              "      <td>17474</td>\n",
              "      <td>1</td>\n",
              "      <td>156</td>\n",
              "      <td>56.0</td>\n",
              "      <td>100</td>\n",
              "      <td>60</td>\n",
              "      <td>1</td>\n",
              "      <td>1</td>\n",
              "      <td>0</td>\n",
              "      <td>0</td>\n",
              "      <td>0</td>\n",
              "      <td>0</td>\n",
              "    </tr>\n",
              "    <tr>\n",
              "      <td>...</td>\n",
              "      <td>...</td>\n",
              "      <td>...</td>\n",
              "      <td>...</td>\n",
              "      <td>...</td>\n",
              "      <td>...</td>\n",
              "      <td>...</td>\n",
              "      <td>...</td>\n",
              "      <td>...</td>\n",
              "      <td>...</td>\n",
              "      <td>...</td>\n",
              "      <td>...</td>\n",
              "      <td>...</td>\n",
              "      <td>...</td>\n",
              "    </tr>\n",
              "    <tr>\n",
              "      <td>69995</td>\n",
              "      <td>99993</td>\n",
              "      <td>19240</td>\n",
              "      <td>2</td>\n",
              "      <td>168</td>\n",
              "      <td>76.0</td>\n",
              "      <td>120</td>\n",
              "      <td>80</td>\n",
              "      <td>1</td>\n",
              "      <td>1</td>\n",
              "      <td>1</td>\n",
              "      <td>0</td>\n",
              "      <td>1</td>\n",
              "      <td>0</td>\n",
              "    </tr>\n",
              "    <tr>\n",
              "      <td>69996</td>\n",
              "      <td>99995</td>\n",
              "      <td>22601</td>\n",
              "      <td>1</td>\n",
              "      <td>158</td>\n",
              "      <td>126.0</td>\n",
              "      <td>140</td>\n",
              "      <td>90</td>\n",
              "      <td>2</td>\n",
              "      <td>2</td>\n",
              "      <td>0</td>\n",
              "      <td>0</td>\n",
              "      <td>1</td>\n",
              "      <td>1</td>\n",
              "    </tr>\n",
              "    <tr>\n",
              "      <td>69997</td>\n",
              "      <td>99996</td>\n",
              "      <td>19066</td>\n",
              "      <td>2</td>\n",
              "      <td>183</td>\n",
              "      <td>105.0</td>\n",
              "      <td>180</td>\n",
              "      <td>90</td>\n",
              "      <td>3</td>\n",
              "      <td>1</td>\n",
              "      <td>0</td>\n",
              "      <td>1</td>\n",
              "      <td>0</td>\n",
              "      <td>1</td>\n",
              "    </tr>\n",
              "    <tr>\n",
              "      <td>69998</td>\n",
              "      <td>99998</td>\n",
              "      <td>22431</td>\n",
              "      <td>1</td>\n",
              "      <td>163</td>\n",
              "      <td>72.0</td>\n",
              "      <td>135</td>\n",
              "      <td>80</td>\n",
              "      <td>1</td>\n",
              "      <td>2</td>\n",
              "      <td>0</td>\n",
              "      <td>0</td>\n",
              "      <td>0</td>\n",
              "      <td>1</td>\n",
              "    </tr>\n",
              "    <tr>\n",
              "      <td>69999</td>\n",
              "      <td>99999</td>\n",
              "      <td>20540</td>\n",
              "      <td>1</td>\n",
              "      <td>170</td>\n",
              "      <td>72.0</td>\n",
              "      <td>120</td>\n",
              "      <td>80</td>\n",
              "      <td>2</td>\n",
              "      <td>1</td>\n",
              "      <td>0</td>\n",
              "      <td>0</td>\n",
              "      <td>1</td>\n",
              "      <td>0</td>\n",
              "    </tr>\n",
              "  </tbody>\n",
              "</table>\n",
              "<p>70000 rows × 13 columns</p>\n",
              "</div>"
            ],
            "text/plain": [
              "          id    age  gender  height  weight  ap_hi  ap_lo  cholesterol  gluc  \\\n",
              "0          0  18393       2     168    62.0    110     80            1     1   \n",
              "1          1  20228       1     156    85.0    140     90            3     1   \n",
              "2          2  18857       1     165    64.0    130     70            3     1   \n",
              "3          3  17623       2     169    82.0    150    100            1     1   \n",
              "4          4  17474       1     156    56.0    100     60            1     1   \n",
              "...      ...    ...     ...     ...     ...    ...    ...          ...   ...   \n",
              "69995  99993  19240       2     168    76.0    120     80            1     1   \n",
              "69996  99995  22601       1     158   126.0    140     90            2     2   \n",
              "69997  99996  19066       2     183   105.0    180     90            3     1   \n",
              "69998  99998  22431       1     163    72.0    135     80            1     2   \n",
              "69999  99999  20540       1     170    72.0    120     80            2     1   \n",
              "\n",
              "       smoke  alco  active  cardio  \n",
              "0          0     0       1       0  \n",
              "1          0     0       1       1  \n",
              "2          0     0       0       1  \n",
              "3          0     0       1       1  \n",
              "4          0     0       0       0  \n",
              "...      ...   ...     ...     ...  \n",
              "69995      1     0       1       0  \n",
              "69996      0     0       1       1  \n",
              "69997      0     1       0       1  \n",
              "69998      0     0       0       1  \n",
              "69999      0     0       1       0  \n",
              "\n",
              "[70000 rows x 13 columns]"
            ]
          },
          "metadata": {
            "tags": []
          },
          "execution_count": 3
        }
      ]
    },
    {
      "cell_type": "code",
      "metadata": {
        "id": "PAlmnFHODBN6",
        "colab_type": "code",
        "colab": {},
        "outputId": "64cef670-954a-4d00-efa0-bb44c4bbb042"
      },
      "source": [
        "df.isnull().values.any()"
      ],
      "execution_count": 0,
      "outputs": [
        {
          "output_type": "execute_result",
          "data": {
            "text/plain": [
              "False"
            ]
          },
          "metadata": {
            "tags": []
          },
          "execution_count": 4
        }
      ]
    },
    {
      "cell_type": "code",
      "metadata": {
        "id": "aLn8So-9DBN9",
        "colab_type": "code",
        "colab": {},
        "outputId": "1427688f-d456-4e5e-be5d-06627ce461b9"
      },
      "source": [
        "df.head()\n",
        "#Systolic blood pressure = ap_hi\n",
        "#Diastolic blood pressure = ap_lo"
      ],
      "execution_count": 0,
      "outputs": [
        {
          "output_type": "execute_result",
          "data": {
            "text/html": [
              "<div>\n",
              "<style scoped>\n",
              "    .dataframe tbody tr th:only-of-type {\n",
              "        vertical-align: middle;\n",
              "    }\n",
              "\n",
              "    .dataframe tbody tr th {\n",
              "        vertical-align: top;\n",
              "    }\n",
              "\n",
              "    .dataframe thead th {\n",
              "        text-align: right;\n",
              "    }\n",
              "</style>\n",
              "<table border=\"1\" class=\"dataframe\">\n",
              "  <thead>\n",
              "    <tr style=\"text-align: right;\">\n",
              "      <th></th>\n",
              "      <th>id</th>\n",
              "      <th>age</th>\n",
              "      <th>gender</th>\n",
              "      <th>height</th>\n",
              "      <th>weight</th>\n",
              "      <th>ap_hi</th>\n",
              "      <th>ap_lo</th>\n",
              "      <th>cholesterol</th>\n",
              "      <th>gluc</th>\n",
              "      <th>smoke</th>\n",
              "      <th>alco</th>\n",
              "      <th>active</th>\n",
              "      <th>cardio</th>\n",
              "    </tr>\n",
              "  </thead>\n",
              "  <tbody>\n",
              "    <tr>\n",
              "      <td>0</td>\n",
              "      <td>0</td>\n",
              "      <td>18393</td>\n",
              "      <td>2</td>\n",
              "      <td>168</td>\n",
              "      <td>62.0</td>\n",
              "      <td>110</td>\n",
              "      <td>80</td>\n",
              "      <td>1</td>\n",
              "      <td>1</td>\n",
              "      <td>0</td>\n",
              "      <td>0</td>\n",
              "      <td>1</td>\n",
              "      <td>0</td>\n",
              "    </tr>\n",
              "    <tr>\n",
              "      <td>1</td>\n",
              "      <td>1</td>\n",
              "      <td>20228</td>\n",
              "      <td>1</td>\n",
              "      <td>156</td>\n",
              "      <td>85.0</td>\n",
              "      <td>140</td>\n",
              "      <td>90</td>\n",
              "      <td>3</td>\n",
              "      <td>1</td>\n",
              "      <td>0</td>\n",
              "      <td>0</td>\n",
              "      <td>1</td>\n",
              "      <td>1</td>\n",
              "    </tr>\n",
              "    <tr>\n",
              "      <td>2</td>\n",
              "      <td>2</td>\n",
              "      <td>18857</td>\n",
              "      <td>1</td>\n",
              "      <td>165</td>\n",
              "      <td>64.0</td>\n",
              "      <td>130</td>\n",
              "      <td>70</td>\n",
              "      <td>3</td>\n",
              "      <td>1</td>\n",
              "      <td>0</td>\n",
              "      <td>0</td>\n",
              "      <td>0</td>\n",
              "      <td>1</td>\n",
              "    </tr>\n",
              "    <tr>\n",
              "      <td>3</td>\n",
              "      <td>3</td>\n",
              "      <td>17623</td>\n",
              "      <td>2</td>\n",
              "      <td>169</td>\n",
              "      <td>82.0</td>\n",
              "      <td>150</td>\n",
              "      <td>100</td>\n",
              "      <td>1</td>\n",
              "      <td>1</td>\n",
              "      <td>0</td>\n",
              "      <td>0</td>\n",
              "      <td>1</td>\n",
              "      <td>1</td>\n",
              "    </tr>\n",
              "    <tr>\n",
              "      <td>4</td>\n",
              "      <td>4</td>\n",
              "      <td>17474</td>\n",
              "      <td>1</td>\n",
              "      <td>156</td>\n",
              "      <td>56.0</td>\n",
              "      <td>100</td>\n",
              "      <td>60</td>\n",
              "      <td>1</td>\n",
              "      <td>1</td>\n",
              "      <td>0</td>\n",
              "      <td>0</td>\n",
              "      <td>0</td>\n",
              "      <td>0</td>\n",
              "    </tr>\n",
              "  </tbody>\n",
              "</table>\n",
              "</div>"
            ],
            "text/plain": [
              "   id    age  gender  height  weight  ap_hi  ap_lo  cholesterol  gluc  smoke  \\\n",
              "0   0  18393       2     168    62.0    110     80            1     1      0   \n",
              "1   1  20228       1     156    85.0    140     90            3     1      0   \n",
              "2   2  18857       1     165    64.0    130     70            3     1      0   \n",
              "3   3  17623       2     169    82.0    150    100            1     1      0   \n",
              "4   4  17474       1     156    56.0    100     60            1     1      0   \n",
              "\n",
              "   alco  active  cardio  \n",
              "0     0       1       0  \n",
              "1     0       1       1  \n",
              "2     0       0       1  \n",
              "3     0       1       1  \n",
              "4     0       0       0  "
            ]
          },
          "metadata": {
            "tags": []
          },
          "execution_count": 5
        }
      ]
    },
    {
      "cell_type": "code",
      "metadata": {
        "id": "VIl5nAskDBOA",
        "colab_type": "code",
        "colab": {},
        "outputId": "5872b5d7-fe8c-4772-f772-4730e5a736c3"
      },
      "source": [
        "df.isnull().sum()"
      ],
      "execution_count": 0,
      "outputs": [
        {
          "output_type": "execute_result",
          "data": {
            "text/plain": [
              "id             0\n",
              "age            0\n",
              "gender         0\n",
              "height         0\n",
              "weight         0\n",
              "ap_hi          0\n",
              "ap_lo          0\n",
              "cholesterol    0\n",
              "gluc           0\n",
              "smoke          0\n",
              "alco           0\n",
              "active         0\n",
              "cardio         0\n",
              "dtype: int64"
            ]
          },
          "metadata": {
            "tags": []
          },
          "execution_count": 6
        }
      ]
    },
    {
      "cell_type": "code",
      "metadata": {
        "id": "TKS5byibDBOD",
        "colab_type": "code",
        "colab": {},
        "outputId": "c1fd5228-a037-42ac-83f3-f7d20f5b783d"
      },
      "source": [
        "df.info()"
      ],
      "execution_count": 0,
      "outputs": [
        {
          "output_type": "stream",
          "text": [
            "<class 'pandas.core.frame.DataFrame'>\n",
            "RangeIndex: 70000 entries, 0 to 69999\n",
            "Data columns (total 13 columns):\n",
            "id             70000 non-null int64\n",
            "age            70000 non-null int64\n",
            "gender         70000 non-null int64\n",
            "height         70000 non-null int64\n",
            "weight         70000 non-null float64\n",
            "ap_hi          70000 non-null int64\n",
            "ap_lo          70000 non-null int64\n",
            "cholesterol    70000 non-null int64\n",
            "gluc           70000 non-null int64\n",
            "smoke          70000 non-null int64\n",
            "alco           70000 non-null int64\n",
            "active         70000 non-null int64\n",
            "cardio         70000 non-null int64\n",
            "dtypes: float64(1), int64(12)\n",
            "memory usage: 6.9 MB\n"
          ],
          "name": "stdout"
        }
      ]
    },
    {
      "cell_type": "markdown",
      "metadata": {
        "id": "rnl4AHhvDBOH",
        "colab_type": "text"
      },
      "source": [
        "# Cleaning Data"
      ]
    },
    {
      "cell_type": "markdown",
      "metadata": {
        "id": "4bfkrhY8DBOI",
        "colab_type": "text"
      },
      "source": [
        ""
      ]
    },
    {
      "cell_type": "code",
      "metadata": {
        "id": "SP-txW3NDBOK",
        "colab_type": "code",
        "colab": {}
      },
      "source": [
        "df.drop('id',axis=1,inplace=True)\n"
      ],
      "execution_count": 0,
      "outputs": []
    },
    {
      "cell_type": "code",
      "metadata": {
        "id": "oDY7Y5P7DBON",
        "colab_type": "code",
        "colab": {},
        "outputId": "b956ae9e-7425-4c4f-8ef2-2df1b2635d15"
      },
      "source": [
        "df"
      ],
      "execution_count": 0,
      "outputs": [
        {
          "output_type": "execute_result",
          "data": {
            "text/html": [
              "<div>\n",
              "<style scoped>\n",
              "    .dataframe tbody tr th:only-of-type {\n",
              "        vertical-align: middle;\n",
              "    }\n",
              "\n",
              "    .dataframe tbody tr th {\n",
              "        vertical-align: top;\n",
              "    }\n",
              "\n",
              "    .dataframe thead th {\n",
              "        text-align: right;\n",
              "    }\n",
              "</style>\n",
              "<table border=\"1\" class=\"dataframe\">\n",
              "  <thead>\n",
              "    <tr style=\"text-align: right;\">\n",
              "      <th></th>\n",
              "      <th>age</th>\n",
              "      <th>gender</th>\n",
              "      <th>height</th>\n",
              "      <th>weight</th>\n",
              "      <th>ap_hi</th>\n",
              "      <th>ap_lo</th>\n",
              "      <th>cholesterol</th>\n",
              "      <th>gluc</th>\n",
              "      <th>smoke</th>\n",
              "      <th>alco</th>\n",
              "      <th>active</th>\n",
              "      <th>cardio</th>\n",
              "    </tr>\n",
              "  </thead>\n",
              "  <tbody>\n",
              "    <tr>\n",
              "      <td>0</td>\n",
              "      <td>18393</td>\n",
              "      <td>2</td>\n",
              "      <td>168</td>\n",
              "      <td>62.0</td>\n",
              "      <td>110</td>\n",
              "      <td>80</td>\n",
              "      <td>1</td>\n",
              "      <td>1</td>\n",
              "      <td>0</td>\n",
              "      <td>0</td>\n",
              "      <td>1</td>\n",
              "      <td>0</td>\n",
              "    </tr>\n",
              "    <tr>\n",
              "      <td>1</td>\n",
              "      <td>20228</td>\n",
              "      <td>1</td>\n",
              "      <td>156</td>\n",
              "      <td>85.0</td>\n",
              "      <td>140</td>\n",
              "      <td>90</td>\n",
              "      <td>3</td>\n",
              "      <td>1</td>\n",
              "      <td>0</td>\n",
              "      <td>0</td>\n",
              "      <td>1</td>\n",
              "      <td>1</td>\n",
              "    </tr>\n",
              "    <tr>\n",
              "      <td>2</td>\n",
              "      <td>18857</td>\n",
              "      <td>1</td>\n",
              "      <td>165</td>\n",
              "      <td>64.0</td>\n",
              "      <td>130</td>\n",
              "      <td>70</td>\n",
              "      <td>3</td>\n",
              "      <td>1</td>\n",
              "      <td>0</td>\n",
              "      <td>0</td>\n",
              "      <td>0</td>\n",
              "      <td>1</td>\n",
              "    </tr>\n",
              "    <tr>\n",
              "      <td>3</td>\n",
              "      <td>17623</td>\n",
              "      <td>2</td>\n",
              "      <td>169</td>\n",
              "      <td>82.0</td>\n",
              "      <td>150</td>\n",
              "      <td>100</td>\n",
              "      <td>1</td>\n",
              "      <td>1</td>\n",
              "      <td>0</td>\n",
              "      <td>0</td>\n",
              "      <td>1</td>\n",
              "      <td>1</td>\n",
              "    </tr>\n",
              "    <tr>\n",
              "      <td>4</td>\n",
              "      <td>17474</td>\n",
              "      <td>1</td>\n",
              "      <td>156</td>\n",
              "      <td>56.0</td>\n",
              "      <td>100</td>\n",
              "      <td>60</td>\n",
              "      <td>1</td>\n",
              "      <td>1</td>\n",
              "      <td>0</td>\n",
              "      <td>0</td>\n",
              "      <td>0</td>\n",
              "      <td>0</td>\n",
              "    </tr>\n",
              "    <tr>\n",
              "      <td>...</td>\n",
              "      <td>...</td>\n",
              "      <td>...</td>\n",
              "      <td>...</td>\n",
              "      <td>...</td>\n",
              "      <td>...</td>\n",
              "      <td>...</td>\n",
              "      <td>...</td>\n",
              "      <td>...</td>\n",
              "      <td>...</td>\n",
              "      <td>...</td>\n",
              "      <td>...</td>\n",
              "      <td>...</td>\n",
              "    </tr>\n",
              "    <tr>\n",
              "      <td>69995</td>\n",
              "      <td>19240</td>\n",
              "      <td>2</td>\n",
              "      <td>168</td>\n",
              "      <td>76.0</td>\n",
              "      <td>120</td>\n",
              "      <td>80</td>\n",
              "      <td>1</td>\n",
              "      <td>1</td>\n",
              "      <td>1</td>\n",
              "      <td>0</td>\n",
              "      <td>1</td>\n",
              "      <td>0</td>\n",
              "    </tr>\n",
              "    <tr>\n",
              "      <td>69996</td>\n",
              "      <td>22601</td>\n",
              "      <td>1</td>\n",
              "      <td>158</td>\n",
              "      <td>126.0</td>\n",
              "      <td>140</td>\n",
              "      <td>90</td>\n",
              "      <td>2</td>\n",
              "      <td>2</td>\n",
              "      <td>0</td>\n",
              "      <td>0</td>\n",
              "      <td>1</td>\n",
              "      <td>1</td>\n",
              "    </tr>\n",
              "    <tr>\n",
              "      <td>69997</td>\n",
              "      <td>19066</td>\n",
              "      <td>2</td>\n",
              "      <td>183</td>\n",
              "      <td>105.0</td>\n",
              "      <td>180</td>\n",
              "      <td>90</td>\n",
              "      <td>3</td>\n",
              "      <td>1</td>\n",
              "      <td>0</td>\n",
              "      <td>1</td>\n",
              "      <td>0</td>\n",
              "      <td>1</td>\n",
              "    </tr>\n",
              "    <tr>\n",
              "      <td>69998</td>\n",
              "      <td>22431</td>\n",
              "      <td>1</td>\n",
              "      <td>163</td>\n",
              "      <td>72.0</td>\n",
              "      <td>135</td>\n",
              "      <td>80</td>\n",
              "      <td>1</td>\n",
              "      <td>2</td>\n",
              "      <td>0</td>\n",
              "      <td>0</td>\n",
              "      <td>0</td>\n",
              "      <td>1</td>\n",
              "    </tr>\n",
              "    <tr>\n",
              "      <td>69999</td>\n",
              "      <td>20540</td>\n",
              "      <td>1</td>\n",
              "      <td>170</td>\n",
              "      <td>72.0</td>\n",
              "      <td>120</td>\n",
              "      <td>80</td>\n",
              "      <td>2</td>\n",
              "      <td>1</td>\n",
              "      <td>0</td>\n",
              "      <td>0</td>\n",
              "      <td>1</td>\n",
              "      <td>0</td>\n",
              "    </tr>\n",
              "  </tbody>\n",
              "</table>\n",
              "<p>70000 rows × 12 columns</p>\n",
              "</div>"
            ],
            "text/plain": [
              "         age  gender  height  weight  ap_hi  ap_lo  cholesterol  gluc  smoke  \\\n",
              "0      18393       2     168    62.0    110     80            1     1      0   \n",
              "1      20228       1     156    85.0    140     90            3     1      0   \n",
              "2      18857       1     165    64.0    130     70            3     1      0   \n",
              "3      17623       2     169    82.0    150    100            1     1      0   \n",
              "4      17474       1     156    56.0    100     60            1     1      0   \n",
              "...      ...     ...     ...     ...    ...    ...          ...   ...    ...   \n",
              "69995  19240       2     168    76.0    120     80            1     1      1   \n",
              "69996  22601       1     158   126.0    140     90            2     2      0   \n",
              "69997  19066       2     183   105.0    180     90            3     1      0   \n",
              "69998  22431       1     163    72.0    135     80            1     2      0   \n",
              "69999  20540       1     170    72.0    120     80            2     1      0   \n",
              "\n",
              "       alco  active  cardio  \n",
              "0         0       1       0  \n",
              "1         0       1       1  \n",
              "2         0       0       1  \n",
              "3         0       1       1  \n",
              "4         0       0       0  \n",
              "...     ...     ...     ...  \n",
              "69995     0       1       0  \n",
              "69996     0       1       1  \n",
              "69997     1       0       1  \n",
              "69998     0       0       1  \n",
              "69999     0       1       0  \n",
              "\n",
              "[70000 rows x 12 columns]"
            ]
          },
          "metadata": {
            "tags": []
          },
          "execution_count": 9
        }
      ]
    },
    {
      "cell_type": "code",
      "metadata": {
        "id": "BrU_X9w_DBOR",
        "colab_type": "code",
        "colab": {},
        "outputId": "07612977-5141-448f-eae0-da8187a0264f"
      },
      "source": [
        "df['gender'].value_counts()"
      ],
      "execution_count": 0,
      "outputs": [
        {
          "output_type": "execute_result",
          "data": {
            "text/plain": [
              "1    45530\n",
              "2    24470\n",
              "Name: gender, dtype: int64"
            ]
          },
          "metadata": {
            "tags": []
          },
          "execution_count": 10
        }
      ]
    },
    {
      "cell_type": "code",
      "metadata": {
        "id": "rgBeJcFtDBOT",
        "colab_type": "code",
        "colab": {},
        "outputId": "10ce8ed1-eccb-4d63-d442-48b167b227d6"
      },
      "source": [
        "sns.distplot(df[\"gender\"])\n"
      ],
      "execution_count": 0,
      "outputs": [
        {
          "output_type": "execute_result",
          "data": {
            "text/plain": [
              "<matplotlib.axes._subplots.AxesSubplot at 0xe2d9350>"
            ]
          },
          "metadata": {
            "tags": []
          },
          "execution_count": 11
        },
        {
          "output_type": "display_data",
          "data": {
            "image/png": "[encoded data removed]",
            "text/plain": [
              "<Figure size 432x288 with 1 Axes>"
            ]
          },
          "metadata": {
            "tags": [],
            "needs_background": "light"
          }
        }
      ]
    },
    {
      "cell_type": "code",
      "metadata": {
        "id": "_gX_0_71DBOX",
        "colab_type": "code",
        "colab": {},
        "outputId": "a49a427a-30ea-4dd3-a907-90a6ba5ce0e4"
      },
      "source": [
        "pd.crosstab(df.gender, df.cardio).plot(kind=\"bar\",figsize=(10,5),color=['#9781cc','#d48cac' ])\n",
        "plt.title(\"frequency of disease vs gender\")\n",
        "plt.ylabel('range')\n",
        "plt.xlabel('female vs male  ')\n",
        "plt.legend([\"Diseased\",\"Not Diseased\"])\n",
        "plt.show()"
      ],
      "execution_count": 0,
      "outputs": [
        {
          "output_type": "display_data",
          "data": {
            "image/png": "[encoded data removed]",
            "text/plain": [
              "<Figure size 720x360 with 1 Axes>"
            ]
          },
          "metadata": {
            "tags": [],
            "needs_background": "light"
          }
        }
      ]
    },
    {
      "cell_type": "code",
      "metadata": {
        "id": "h4qlvzFCDBOa",
        "colab_type": "code",
        "colab": {},
        "outputId": "1ce2c821-25d7-4bf2-bb37-94c5ae88e046"
      },
      "source": [
        "from matplotlib import rcParams\n",
        "rcParams['figure.figsize'] = 8,8\n",
        "sns.countplot(x='gender',hue='cardio',data=df)"
      ],
      "execution_count": 0,
      "outputs": [
        {
          "output_type": "execute_result",
          "data": {
            "text/plain": [
              "<matplotlib.axes._subplots.AxesSubplot at 0xe481c10>"
            ]
          },
          "metadata": {
            "tags": []
          },
          "execution_count": 13
        },
        {
          "output_type": "display_data",
          "data": {
            "image/png": "[encoded data removed]",
            "text/plain": [
              "<Figure size 576x576 with 1 Axes>"
            ]
          },
          "metadata": {
            "tags": [],
            "needs_background": "light"
          }
        }
      ]
    },
    {
      "cell_type": "code",
      "metadata": {
        "id": "x-ZjtXEpDBOc",
        "colab_type": "code",
        "colab": {},
        "outputId": "42afdb65-4386-43ff-f51f-b27546891a33"
      },
      "source": [
        "df.cardio.value_counts()\n"
      ],
      "execution_count": 0,
      "outputs": [
        {
          "output_type": "execute_result",
          "data": {
            "text/plain": [
              "0    35021\n",
              "1    34979\n",
              "Name: cardio, dtype: int64"
            ]
          },
          "metadata": {
            "tags": []
          },
          "execution_count": 14
        }
      ]
    },
    {
      "cell_type": "code",
      "metadata": {
        "id": "uawpbuKKDBOg",
        "colab_type": "code",
        "colab": {},
        "outputId": "4d7b4de9-7042-43d7-8f91-22a11234244e"
      },
      "source": [
        "diseased=(len(df[df.cardio==1])/len(df.cardio))*100\n",
        "diseased_male=len(df[(df.cardio==1) & (df.gender==1)])/len(df.cardio)*100\n",
        "diseased_female=len(df[(df.cardio==1) & (df.gender==2)])/len(df.cardio)*100\n",
        "\n",
        "print(\"\\n{:.2f}% of the total count were diseased,\\n amoung which {:.2f}% were female  and {:.2f}% were male \".format(diseased,diseased_male,diseased_female))\n"
      ],
      "execution_count": 0,
      "outputs": [
        {
          "output_type": "stream",
          "text": [
            "\n",
            "49.97% of the total count were diseased,\n",
            " amoung which 32.31% were female  and 17.66% were male \n"
          ],
          "name": "stdout"
        }
      ]
    },
    {
      "cell_type": "code",
      "metadata": {
        "id": "KX2S2z5sDBOn",
        "colab_type": "code",
        "colab": {},
        "outputId": "3b33296f-f481-4cc8-d6be-eb1a698e51e4"
      },
      "source": [
        "non_diseased=(len(df[df.cardio==0])/len(df.cardio))*100\n",
        "non_diseased_male=len(df[(df.cardio==0) & (df.gender==1)])/len(df.cardio)*100\n",
        "non_diseased_female=len(df[(df.cardio==0) & (df.gender==2)])/len(df.cardio)*100\n",
        "print(\"\\n{:.2f}% of the total count were  not diseased,\\n amoung which {:.2f}% were female and {:.2f}% were male\".format(non_diseased,non_diseased_male,non_diseased_female))"
      ],
      "execution_count": 0,
      "outputs": [
        {
          "output_type": "stream",
          "text": [
            "\n",
            "50.03% of the total count were  not diseased,\n",
            " amoung which 32.73% were female and 17.30% were male\n"
          ],
          "name": "stdout"
        }
      ]
    },
    {
      "cell_type": "code",
      "metadata": {
        "id": "Py2JwWfEDBOp",
        "colab_type": "code",
        "colab": {},
        "outputId": "2117632b-f6f9-40ca-d37d-301690a74b88"
      },
      "source": [
        "sns.boxplot(x='cardio',y='age',data=df)"
      ],
      "execution_count": 0,
      "outputs": [
        {
          "output_type": "execute_result",
          "data": {
            "text/plain": [
              "<matplotlib.axes._subplots.AxesSubplot at 0xe54f8b0>"
            ]
          },
          "metadata": {
            "tags": []
          },
          "execution_count": 17
        },
        {
          "output_type": "display_data",
          "data": {
            "image/png": "[encoded data removed]",
            "text/plain": [
              "<Figure size 576x576 with 1 Axes>"
            ]
          },
          "metadata": {
            "tags": [],
            "needs_background": "light"
          }
        }
      ]
    },
    {
      "cell_type": "code",
      "metadata": {
        "id": "2sMgWM7dDBOs",
        "colab_type": "code",
        "colab": {},
        "outputId": "06dc6731-a382-4142-fa18-f8468db26318"
      },
      "source": [
        "from matplotlib import rcParams\n",
        "rcParams['figure.figsize'] = 20, 17\n",
        "df['years'] = (df['age'] / 365).round().astype('int')\n",
        "sns.countplot(x='years', hue='cardio', data = df, palette=\"Set2\");"
      ],
      "execution_count": 0,
      "outputs": [
        {
          "output_type": "display_data",
          "data": {
            "image/png": "[encoded data removed]",
            "text/plain": [
              "<Figure size 1440x1224 with 1 Axes>"
            ]
          },
          "metadata": {
            "tags": [],
            "needs_background": "light"
          }
        }
      ]
    },
    {
      "cell_type": "code",
      "metadata": {
        "id": "eeliJYr4DBOv",
        "colab_type": "code",
        "colab": {},
        "outputId": "160f1b53-72b7-447b-e840-bfcdb3ff5ab1"
      },
      "source": [
        "df.describe()"
      ],
      "execution_count": 0,
      "outputs": [
        {
          "output_type": "execute_result",
          "data": {
            "text/html": [
              "<div>\n",
              "<style scoped>\n",
              "    .dataframe tbody tr th:only-of-type {\n",
              "        vertical-align: middle;\n",
              "    }\n",
              "\n",
              "    .dataframe tbody tr th {\n",
              "        vertical-align: top;\n",
              "    }\n",
              "\n",
              "    .dataframe thead th {\n",
              "        text-align: right;\n",
              "    }\n",
              "</style>\n",
              "<table border=\"1\" class=\"dataframe\">\n",
              "  <thead>\n",
              "    <tr style=\"text-align: right;\">\n",
              "      <th></th>\n",
              "      <th>age</th>\n",
              "      <th>gender</th>\n",
              "      <th>height</th>\n",
              "      <th>weight</th>\n",
              "      <th>ap_hi</th>\n",
              "      <th>ap_lo</th>\n",
              "      <th>cholesterol</th>\n",
              "      <th>gluc</th>\n",
              "      <th>smoke</th>\n",
              "      <th>alco</th>\n",
              "      <th>active</th>\n",
              "      <th>cardio</th>\n",
              "      <th>years</th>\n",
              "    </tr>\n",
              "  </thead>\n",
              "  <tbody>\n",
              "    <tr>\n",
              "      <td>count</td>\n",
              "      <td>70000.000000</td>\n",
              "      <td>70000.000000</td>\n",
              "      <td>70000.000000</td>\n",
              "      <td>70000.000000</td>\n",
              "      <td>70000.000000</td>\n",
              "      <td>70000.000000</td>\n",
              "      <td>70000.000000</td>\n",
              "      <td>70000.000000</td>\n",
              "      <td>70000.000000</td>\n",
              "      <td>70000.000000</td>\n",
              "      <td>70000.000000</td>\n",
              "      <td>70000.000000</td>\n",
              "      <td>70000.000000</td>\n",
              "    </tr>\n",
              "    <tr>\n",
              "      <td>mean</td>\n",
              "      <td>19468.865814</td>\n",
              "      <td>1.349571</td>\n",
              "      <td>164.359229</td>\n",
              "      <td>74.205690</td>\n",
              "      <td>128.817286</td>\n",
              "      <td>96.630414</td>\n",
              "      <td>1.366871</td>\n",
              "      <td>1.226457</td>\n",
              "      <td>0.088129</td>\n",
              "      <td>0.053771</td>\n",
              "      <td>0.803729</td>\n",
              "      <td>0.499700</td>\n",
              "      <td>53.338686</td>\n",
              "    </tr>\n",
              "    <tr>\n",
              "      <td>std</td>\n",
              "      <td>2467.251667</td>\n",
              "      <td>0.476838</td>\n",
              "      <td>8.210126</td>\n",
              "      <td>14.395757</td>\n",
              "      <td>154.011419</td>\n",
              "      <td>188.472530</td>\n",
              "      <td>0.680250</td>\n",
              "      <td>0.572270</td>\n",
              "      <td>0.283484</td>\n",
              "      <td>0.225568</td>\n",
              "      <td>0.397179</td>\n",
              "      <td>0.500003</td>\n",
              "      <td>6.765294</td>\n",
              "    </tr>\n",
              "    <tr>\n",
              "      <td>min</td>\n",
              "      <td>10798.000000</td>\n",
              "      <td>1.000000</td>\n",
              "      <td>55.000000</td>\n",
              "      <td>10.000000</td>\n",
              "      <td>-150.000000</td>\n",
              "      <td>-70.000000</td>\n",
              "      <td>1.000000</td>\n",
              "      <td>1.000000</td>\n",
              "      <td>0.000000</td>\n",
              "      <td>0.000000</td>\n",
              "      <td>0.000000</td>\n",
              "      <td>0.000000</td>\n",
              "      <td>30.000000</td>\n",
              "    </tr>\n",
              "    <tr>\n",
              "      <td>25%</td>\n",
              "      <td>17664.000000</td>\n",
              "      <td>1.000000</td>\n",
              "      <td>159.000000</td>\n",
              "      <td>65.000000</td>\n",
              "      <td>120.000000</td>\n",
              "      <td>80.000000</td>\n",
              "      <td>1.000000</td>\n",
              "      <td>1.000000</td>\n",
              "      <td>0.000000</td>\n",
              "      <td>0.000000</td>\n",
              "      <td>1.000000</td>\n",
              "      <td>0.000000</td>\n",
              "      <td>48.000000</td>\n",
              "    </tr>\n",
              "    <tr>\n",
              "      <td>50%</td>\n",
              "      <td>19703.000000</td>\n",
              "      <td>1.000000</td>\n",
              "      <td>165.000000</td>\n",
              "      <td>72.000000</td>\n",
              "      <td>120.000000</td>\n",
              "      <td>80.000000</td>\n",
              "      <td>1.000000</td>\n",
              "      <td>1.000000</td>\n",
              "      <td>0.000000</td>\n",
              "      <td>0.000000</td>\n",
              "      <td>1.000000</td>\n",
              "      <td>0.000000</td>\n",
              "      <td>54.000000</td>\n",
              "    </tr>\n",
              "    <tr>\n",
              "      <td>75%</td>\n",
              "      <td>21327.000000</td>\n",
              "      <td>2.000000</td>\n",
              "      <td>170.000000</td>\n",
              "      <td>82.000000</td>\n",
              "      <td>140.000000</td>\n",
              "      <td>90.000000</td>\n",
              "      <td>2.000000</td>\n",
              "      <td>1.000000</td>\n",
              "      <td>0.000000</td>\n",
              "      <td>0.000000</td>\n",
              "      <td>1.000000</td>\n",
              "      <td>1.000000</td>\n",
              "      <td>58.000000</td>\n",
              "    </tr>\n",
              "    <tr>\n",
              "      <td>max</td>\n",
              "      <td>23713.000000</td>\n",
              "      <td>2.000000</td>\n",
              "      <td>250.000000</td>\n",
              "      <td>200.000000</td>\n",
              "      <td>16020.000000</td>\n",
              "      <td>11000.000000</td>\n",
              "      <td>3.000000</td>\n",
              "      <td>3.000000</td>\n",
              "      <td>1.000000</td>\n",
              "      <td>1.000000</td>\n",
              "      <td>1.000000</td>\n",
              "      <td>1.000000</td>\n",
              "      <td>65.000000</td>\n",
              "    </tr>\n",
              "  </tbody>\n",
              "</table>\n",
              "</div>"
            ],
            "text/plain": [
              "                age        gender        height        weight         ap_hi  \\\n",
              "count  70000.000000  70000.000000  70000.000000  70000.000000  70000.000000   \n",
              "mean   19468.865814      1.349571    164.359229     74.205690    128.817286   \n",
              "std     2467.251667      0.476838      8.210126     14.395757    154.011419   \n",
              "min    10798.000000      1.000000     55.000000     10.000000   -150.000000   \n",
              "25%    17664.000000      1.000000    159.000000     65.000000    120.000000   \n",
              "50%    19703.000000      1.000000    165.000000     72.000000    120.000000   \n",
              "75%    21327.000000      2.000000    170.000000     82.000000    140.000000   \n",
              "max    23713.000000      2.000000    250.000000    200.000000  16020.000000   \n",
              "\n",
              "              ap_lo   cholesterol          gluc         smoke          alco  \\\n",
              "count  70000.000000  70000.000000  70000.000000  70000.000000  70000.000000   \n",
              "mean      96.630414      1.366871      1.226457      0.088129      0.053771   \n",
              "std      188.472530      0.680250      0.572270      0.283484      0.225568   \n",
              "min      -70.000000      1.000000      1.000000      0.000000      0.000000   \n",
              "25%       80.000000      1.000000      1.000000      0.000000      0.000000   \n",
              "50%       80.000000      1.000000      1.000000      0.000000      0.000000   \n",
              "75%       90.000000      2.000000      1.000000      0.000000      0.000000   \n",
              "max    11000.000000      3.000000      3.000000      1.000000      1.000000   \n",
              "\n",
              "             active        cardio         years  \n",
              "count  70000.000000  70000.000000  70000.000000  \n",
              "mean       0.803729      0.499700     53.338686  \n",
              "std        0.397179      0.500003      6.765294  \n",
              "min        0.000000      0.000000     30.000000  \n",
              "25%        1.000000      0.000000     48.000000  \n",
              "50%        1.000000      0.000000     54.000000  \n",
              "75%        1.000000      1.000000     58.000000  \n",
              "max        1.000000      1.000000     65.000000  "
            ]
          },
          "metadata": {
            "tags": []
          },
          "execution_count": 19
        }
      ]
    },
    {
      "cell_type": "markdown",
      "metadata": {
        "id": "6QNGJO2CDBO1",
        "colab_type": "text"
      },
      "source": [
        "# we can see that there are outliers in ap_hi, ap_lo, weight and height."
      ]
    },
    {
      "cell_type": "markdown",
      "metadata": {
        "id": "I2wRVpWQDBO6",
        "colab_type": "text"
      },
      "source": [
        "# remove weights and heights, that fall below 2.5% or above 97.5% \n",
        "overfitting"
      ]
    },
    {
      "cell_type": "code",
      "metadata": {
        "id": "8iHOyRVmDBO8",
        "colab_type": "code",
        "colab": {}
      },
      "source": [
        "df.drop(df[(df['height'] > df['height'].quantile(0.975)) |(df['height'] < df['height'].quantile(0.025))].index,inplace=True)\n",
        "df.drop(df[(df['weight'] > df['weight'].quantile(0.975)) | (df['weight'] < df['weight'].quantile(0.025))].index,inplace=True)"
      ],
      "execution_count": 0,
      "outputs": []
    },
    {
      "cell_type": "code",
      "metadata": {
        "id": "vyJV0_1DDBPF",
        "colab_type": "code",
        "colab": {},
        "outputId": "52e09480-0eaa-4ba0-c575-eb96184a509b"
      },
      "source": [
        "plt.figure(figsize=(14,6))\n",
        "plt.subplot(1,2,1)\n",
        "sns.boxplot(x='cardio',y='height',data=df,palette='winter')\n",
        "plt.subplot(1,2,2)\n",
        "sns.boxplot(x='cardio',y='weight',data=df,palette='summer')"
      ],
      "execution_count": 0,
      "outputs": [
        {
          "output_type": "execute_result",
          "data": {
            "text/plain": [
              "<matplotlib.axes._subplots.AxesSubplot at 0xead46f0>"
            ]
          },
          "metadata": {
            "tags": []
          },
          "execution_count": 21
        },
        {
          "output_type": "display_data",
          "data": {
            "image/png": "[encoded data removed]",
            "text/plain": [
              "<Figure size 1008x432 with 2 Axes>"
            ]
          },
          "metadata": {
            "tags": [],
            "needs_background": "light"
          }
        }
      ]
    },
    {
      "cell_type": "markdown",
      "metadata": {
        "id": "57IVNkWKDBPI",
        "colab_type": "text"
      },
      "source": [
        "# remove ap_hi and ap_lo, that fall below 2.5% or above 97.5% \n",
        "\n",
        "Systolic blood pressure = ap_hi\n",
        "Diastolic blood pressure = ap_lo\n",
        "blood pressure could not be negative value\n"
      ]
    },
    {
      "cell_type": "code",
      "metadata": {
        "id": "odKiqYhsDBPJ",
        "colab_type": "code",
        "colab": {},
        "outputId": "4e6d7f36-f576-42ac-da05-fb87533c14f1"
      },
      "source": [
        "print(\"Diastilic pressure is higher than systolic one in {0} cases\".format(df[df['ap_lo']> df['ap_hi']].shape[0]))"
      ],
      "execution_count": 0,
      "outputs": [
        {
          "output_type": "stream",
          "text": [
            "Diastilic pressure is higher than systolic one in 1082 cases\n"
          ],
          "name": "stdout"
        }
      ]
    },
    {
      "cell_type": "code",
      "metadata": {
        "id": "uHlHGBEPDBPL",
        "colab_type": "code",
        "colab": {}
      },
      "source": [
        "#Let's get rid of the outliers, moreover blood pressure could not be negative value"
      ],
      "execution_count": 0,
      "outputs": []
    },
    {
      "cell_type": "code",
      "metadata": {
        "id": "huWLup7EDBPN",
        "colab_type": "code",
        "colab": {}
      },
      "source": [
        "df.drop(df[(df['ap_hi'] > df['ap_hi'].quantile(0.975)) | (df['ap_hi'] < df['ap_hi'].quantile(0.025))].index,inplace=True)\n",
        "df.drop(df[(df['ap_lo'] > df['ap_lo'].quantile(0.975)) | (df['ap_lo'] < df['ap_lo'].quantile(0.025))].index,inplace=True)"
      ],
      "execution_count": 0,
      "outputs": []
    },
    {
      "cell_type": "code",
      "metadata": {
        "id": "BRYYXg4wDBPQ",
        "colab_type": "code",
        "colab": {},
        "outputId": "8c5af0a0-8953-4fa6-b95b-5415216f2481"
      },
      "source": [
        "blood_pressure = df.loc[:,['ap_lo','ap_hi']]\n",
        "sns.boxplot(x = 'variable',y = 'value',data = blood_pressure.melt())\n",
        "print(\"Diastilic pressure is higher than systolic one in {0} cases\".format(df[df['ap_lo']> df['ap_hi']].shape[0]))"
      ],
      "execution_count": 0,
      "outputs": [
        {
          "output_type": "stream",
          "text": [
            "Diastilic pressure is higher than systolic one in 0 cases\n"
          ],
          "name": "stdout"
        },
        {
          "output_type": "display_data",
          "data": {
            "image/png": "[encoded data removed]",
            "text/plain": [
              "<Figure size 1440x1224 with 1 Axes>"
            ]
          },
          "metadata": {
            "tags": [],
            "needs_background": "light"
          }
        }
      ]
    },
    {
      "cell_type": "code",
      "metadata": {
        "id": "mscO6nkiDBPT",
        "colab_type": "code",
        "colab": {},
        "outputId": "f85d5ab5-4b9c-4bc6-b676-494cda6f6f77"
      },
      "source": [
        "\n",
        "df.groupby('gender')['alco'].sum()"
      ],
      "execution_count": 0,
      "outputs": [
        {
          "output_type": "execute_result",
          "data": {
            "text/plain": [
              "gender\n",
              "1     973\n",
              "2    2147\n",
              "Name: alco, dtype: int64"
            ]
          },
          "metadata": {
            "tags": []
          },
          "execution_count": 26
        }
      ]
    },
    {
      "cell_type": "code",
      "metadata": {
        "id": "h49K4az9DBPV",
        "colab_type": "code",
        "colab": {}
      },
      "source": [
        "#Body Mass Index (BMI):\n",
        "#BMI = mass(kg) / height(m2)\n",
        "#Normal BMI values are said to be from 18.5 to 25.\n",
        "# Drinking women have higher risks for CVD than drinking men based on thier BMI.\n",
        "\n"
      ],
      "execution_count": 0,
      "outputs": []
    },
    {
      "cell_type": "code",
      "metadata": {
        "id": "CzEbvz9uDBPX",
        "colab_type": "code",
        "colab": {},
        "outputId": "c2301308-5674-448a-8266-79863b40ef56"
      },
      "source": [
        "df['BMI'] = df['weight']/((df['height']/100)**2)\n",
        "sns.catplot(x=\"gender\", y=\"BMI\", hue=\"alco\", col=\"cardio\", data=df, color = \"yellow\",kind=\"box\", height=10, aspect=.7);"
      ],
      "execution_count": 0,
      "outputs": [
        {
          "output_type": "display_data",
          "data": {
            "image/png": "[encoded data removed]",
            "text/plain": [
              "<Figure size 1050.38x720 with 2 Axes>"
            ]
          },
          "metadata": {
            "tags": [],
            "needs_background": "light"
          }
        }
      ]
    },
    {
      "cell_type": "code",
      "metadata": {
        "id": "NqWdJdFuDBPb",
        "colab_type": "code",
        "colab": {},
        "outputId": "569266f7-a06d-42b2-cdeb-049ad4818ab3"
      },
      "source": [
        "corr = df.corr()\n",
        "cmap = sns.diverging_palette(220, 10, as_cmap=True)\n",
        "# Generate a mask for the upper triangle\n",
        "mask = np.zeros_like(corr, dtype=np.bool)\n",
        "mask[np.triu_indices_from(mask)] = True\n",
        "\n",
        "# Set up the matplotlib figure\n",
        "f, ax = plt.subplots(figsize=(11, 9))\n",
        "# Draw the heatmap with the mask and correct aspect ratio\n",
        "sns.heatmap(corr, mask=mask, cmap=cmap, vmax=.3, center=0,annot = True,\n",
        "            square=True, linewidths=.5, cbar_kws={\"shrink\": .5});"
      ],
      "execution_count": 0,
      "outputs": [
        {
          "output_type": "display_data",
          "data": {
            "image/png": "[encoded data removed]",
            "text/plain": [
              "<Figure size 792x648 with 2 Axes>"
            ]
          },
          "metadata": {
            "tags": [],
            "needs_background": "light"
          }
        }
      ]
    },
    {
      "cell_type": "code",
      "metadata": {
        "id": "eVvyuWoRDBPe",
        "colab_type": "code",
        "colab": {},
        "outputId": "f107a363-2e75-4c4b-d807-bf40b7315b68"
      },
      "source": [
        "#sns.heatmap(df.corr(),annot=True,cmap='RdYlGn') \n",
        "sns.heatmap(df.corr(),annot=True)\n",
        "fig=plt.gcf()\n",
        "fig.set_size_inches(14,12)\n",
        "plt.show"
      ],
      "execution_count": 0,
      "outputs": [
        {
          "output_type": "execute_result",
          "data": {
            "text/plain": [
              "<function matplotlib.pyplot.show(*args, **kw)>"
            ]
          },
          "metadata": {
            "tags": []
          },
          "execution_count": 30
        },
        {
          "output_type": "display_data",
          "data": {
            "image/png": "[encoded data removed]",
            "text/plain": [
              "<Figure size 1008x864 with 2 Axes>"
            ]
          },
          "metadata": {
            "tags": [],
            "needs_background": "light"
          }
        }
      ]
    },
    {
      "cell_type": "markdown",
      "metadata": {
        "id": "rwKPg8V6DBPg",
        "colab_type": "text"
      },
      "source": [
        "# ML"
      ]
    },
    {
      "cell_type": "code",
      "metadata": {
        "id": "ZAqvoPpkDBPh",
        "colab_type": "code",
        "colab": {}
      },
      "source": [
        "x=df[['weight','ap_hi','ap_lo','cholesterol','years','BMI']]\n",
        "#Found array with dim 3. Estimator expected <= 2. #[:,np.newaxis]\n",
        "y=df['cardio'].values\n",
        "\n",
        "train_x,test_x,train_y,test_y=train_test_split(x,y,test_size=0.35,random_state=40)"
      ],
      "execution_count": 0,
      "outputs": []
    },
    {
      "cell_type": "code",
      "metadata": {
        "id": "TIu3Tl89DBPj",
        "colab_type": "code",
        "colab": {}
      },
      "source": [
        "Classifiers = list()\n",
        " \n",
        "\n",
        "    "
      ],
      "execution_count": 0,
      "outputs": []
    },
    {
      "cell_type": "code",
      "metadata": {
        "id": "bS561UMYDBPl",
        "colab_type": "code",
        "colab": {}
      },
      "source": [
        "\n",
        "knn=KNeighborsClassifier(n_neighbors = 1)\n",
        "knn.fit(train_x,train_y)\n",
        "y_pred_KN = knn.predict(test_x)\n",
        "accuracy = knn.score(test_x,test_y)\n"
      ],
      "execution_count": 0,
      "outputs": []
    },
    {
      "cell_type": "code",
      "metadata": {
        "id": "3o_VQaDLDBPn",
        "colab_type": "code",
        "colab": {}
      },
      "source": [
        "max1=0\n",
        "k=0\n",
        "for j in range(2,31):\n",
        "    knn=KNeighborsClassifier(n_neighbors = j )\n",
        "    knn.fit(train_x,train_y)\n",
        "    y_pred_KN = knn.predict(test_x)\n",
        "    accuracy = knn.score(test_x,test_y)\n",
        "    if(accuracy > max1):\n",
        "        max1 = accuracy\n",
        "        k = j\n",
        "                \n",
        "       \n",
        "\n"
      ],
      "execution_count": 0,
      "outputs": []
    },
    {
      "cell_type": "code",
      "metadata": {
        "id": "_XP0pxjJDBPp",
        "colab_type": "code",
        "colab": {}
      },
      "source": [
        "    knn=KNeighborsClassifier(n_neighbors = k)\n",
        "    knn.fit(train_x,train_y)\n",
        "    y_pred_KN = knn.predict(test_x)\n",
        "    Classifiers.append(y_pred_KN)"
      ],
      "execution_count": 0,
      "outputs": []
    },
    {
      "cell_type": "code",
      "metadata": {
        "id": "UUmx8yvADBPv",
        "colab_type": "code",
        "colab": {}
      },
      "source": [
        "from sklearn.tree import DecisionTreeClassifier\n",
        "DTR = DecisionTreeClassifier()\n",
        "DTR.fit(train_x,train_y)\n",
        "y_pred_Deci = DTR.predict(test_x)\n",
        "Classifiers.append(y_pred_Deci)"
      ],
      "execution_count": 0,
      "outputs": []
    },
    {
      "cell_type": "code",
      "metadata": {
        "id": "fK3NRKiADBPz",
        "colab_type": "code",
        "colab": {}
      },
      "source": [
        "from sklearn.ensemble import RandomForestClassifier\n",
        "RFC = RandomForestClassifier(n_estimators=500,random_state=0)\n",
        "RFC.fit(train_x,train_y)\n",
        "y_pred_RF = RFC.predict(test_x)\n",
        "Classifiers.append(y_pred_RF)"
      ],
      "execution_count": 0,
      "outputs": []
    },
    {
      "cell_type": "code",
      "metadata": {
        "id": "sgQrscyiDBP2",
        "colab_type": "code",
        "colab": {}
      },
      "source": [
        "BAG = BaggingClassifier( n_estimators=140,random_state = 222)\n",
        "BAG.fit(train_x,train_y)\n",
        "BAG_pred = BAG.predict(test_x)\n",
        "Classifiers.append(BAG_pred)\n"
      ],
      "execution_count": 0,
      "outputs": []
    },
    {
      "cell_type": "code",
      "metadata": {
        "id": "7Yhq5bUlDBP5",
        "colab_type": "code",
        "colab": {},
        "outputId": "8eb4ba97-1dad-4142-dbc5-f0fe24f0ca7d"
      },
      "source": [
        "logreg = LogisticRegression()\n",
        "logreg.fit(train_x,train_y)\n",
        "pred_y = logreg.predict(test_x)\n",
        "Classifiers.append(pred_y)\n"
      ],
      "execution_count": 0,
      "outputs": [
        {
          "output_type": "stream",
          "text": [
            "c:\\users\\saif layouni\\appdata\\local\\programs\\python\\python37-32\\lib\\site-packages\\sklearn\\linear_model\\logistic.py:432: FutureWarning: Default solver will be changed to 'lbfgs' in 0.22. Specify a solver to silence this warning.\n",
            "  FutureWarning)\n"
          ],
          "name": "stderr"
        }
      ]
    },
    {
      "cell_type": "code",
      "metadata": {
        "id": "SGMC9pQXDBP7",
        "colab_type": "code",
        "colab": {},
        "outputId": "bc44e069-36bd-4b2b-ddb8-0fcf22516f61"
      },
      "source": [
        "Class = ['KNeighbors' ,'DecisionTree', 'RandomForest','BaggingClassifier','LogisticRegression']\n",
        "score=list()\n",
        "a=0\n",
        "index=0\n",
        "from sklearn.metrics import accuracy_score\n",
        "for pred in range(len(Classifiers)):\n",
        "    if a < accuracy_score(test_y,Classifiers[pred]):\n",
        "        a = accuracy_score(test_y,Classifiers[pred])\n",
        "        index=pred\n",
        "        \n",
        "    print(\"accuracy of {} classifier is {:.2f}%\".format(Class[pred],accuracy_score(test_y,Classifiers[pred])*100))\n",
        "    \n",
        "print(\"\\nbest classifier is {} and the accuracy is {:.2f}%\".format(Class[index],a*100))"
      ],
      "execution_count": 0,
      "outputs": [
        {
          "output_type": "stream",
          "text": [
            "accuracy of KNeighbors classifier is 71.51%\n",
            "accuracy of DecisionTree classifier is 62.86%\n",
            "accuracy of RandomForest classifier is 68.66%\n",
            "accuracy of BaggingClassifier classifier is 67.98%\n",
            "accuracy of LogisticRegression classifier is 72.10%\n",
            "\n",
            "best classifier is LogisticRegression and the accuracy is 72.10%\n"
          ],
          "name": "stdout"
        }
      ]
    },
    {
      "cell_type": "code",
      "metadata": {
        "id": "LSeWxzfdDBP9",
        "colab_type": "code",
        "colab": {},
        "outputId": "f8baf039-bb78-4ee8-bc1a-c7558d254447"
      },
      "source": [
        "logreg = LogisticRegression()\n",
        "logreg.fit(train_x,train_y)\n",
        "pred_y = logreg.predict(test_x)\n",
        "Classifiers.append(pred_y)\n",
        "print('accuracy = {:.2f}'.format(logreg.score(test_x,test_y)))"
      ],
      "execution_count": 0,
      "outputs": [
        {
          "output_type": "stream",
          "text": [
            "c:\\users\\saif layouni\\appdata\\local\\programs\\python\\python37-32\\lib\\site-packages\\sklearn\\linear_model\\logistic.py:432: FutureWarning: Default solver will be changed to 'lbfgs' in 0.22. Specify a solver to silence this warning.\n",
            "  FutureWarning)\n"
          ],
          "name": "stderr"
        },
        {
          "output_type": "stream",
          "text": [
            "accuracy = 0.72\n"
          ],
          "name": "stdout"
        }
      ]
    },
    {
      "cell_type": "code",
      "metadata": {
        "id": "5um8GT6PDBQB",
        "colab_type": "code",
        "colab": {},
        "outputId": "ca639da9-0ad4-4085-920b-77f48fdfef27"
      },
      "source": [
        "confusion_matrix = pd.crosstab(test_y,pred_y, rownames=['Actual'],colnames=['Predicted'])\n",
        "print(confusion_matrix)"
      ],
      "execution_count": 0,
      "outputs": [
        {
          "output_type": "stream",
          "text": [
            "Predicted     0     1\n",
            "Actual               \n",
            "0          8583  2256\n",
            "1          3617  6594\n"
          ],
          "name": "stdout"
        }
      ]
    },
    {
      "cell_type": "code",
      "metadata": {
        "id": "83bUs-DDDBQD",
        "colab_type": "code",
        "colab": {},
        "outputId": "4f7c0db7-0a04-4398-c0f0-1349cd8046bd"
      },
      "source": [
        "from sklearn.metrics import roc_auc_score\n",
        "print( 'roc_auc:\\n',roc_auc_score(test_y,pred_y))"
      ],
      "execution_count": 0,
      "outputs": [
        {
          "output_type": "stream",
          "text": [
            "roc_auc:\n",
            " 0.7188184415394816\n"
          ],
          "name": "stdout"
        }
      ]
    },
    {
      "cell_type": "code",
      "metadata": {
        "id": "lTGnkFp7DBQW",
        "colab_type": "code",
        "colab": {},
        "outputId": "71b0133f-19eb-45b2-c374-56967d1f2aaf"
      },
      "source": [
        "print('Confusion Matrix =  \\n\\n',confusion_matrix)\n",
        "print('\\n  \\n\\n classification_report=\\n \\n',classification_report(test_y,pred_y))"
      ],
      "execution_count": 0,
      "outputs": [
        {
          "output_type": "stream",
          "text": [
            "Confusion Matrix =  \n",
            "\n",
            " Predicted     0     1\n",
            "Actual               \n",
            "0          8583  2256\n",
            "1          3617  6594\n",
            "\n",
            "  \n",
            "\n",
            " classification_report=\n",
            " \n",
            "               precision    recall  f1-score   support\n",
            "\n",
            "           0       0.70      0.79      0.75     10839\n",
            "           1       0.75      0.65      0.69     10211\n",
            "\n",
            "    accuracy                           0.72     21050\n",
            "   macro avg       0.72      0.72      0.72     21050\n",
            "weighted avg       0.72      0.72      0.72     21050\n",
            "\n"
          ],
          "name": "stdout"
        }
      ]
    },
    {
      "cell_type": "code",
      "metadata": {
        "id": "P9CNbrZGDBQb",
        "colab_type": "code",
        "colab": {}
      },
      "source": [
        ""
      ],
      "execution_count": 0,
      "outputs": []
    }
  ]
}